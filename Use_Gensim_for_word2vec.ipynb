{
  "nbformat": 4,
  "nbformat_minor": 0,
  "metadata": {
    "colab": {
      "name": "Use Gensim for word2vec.ipynb",
      "provenance": [],
      "collapsed_sections": [],
      "toc_visible": true
    },
    "kernelspec": {
      "name": "python3",
      "display_name": "Python 3"
    },
    "accelerator": "GPU"
  },
  "cells": [
    {
      "cell_type": "markdown",
      "metadata": {
        "id": "FijCfcVaJnLh",
        "colab_type": "text"
      },
      "source": [
        "https://github.com/rare-technologies/gensim-data?fbclid=IwAR3PTaaC8RSKVAuVmCMr6po3lp1p88d668k3OIJLlRoaYlpcbDTJoPvfom8"
      ]
    },
    {
      "cell_type": "code",
      "metadata": {
        "id": "GcBMbOHxH_Z5",
        "colab_type": "code",
        "colab": {
          "base_uri": "https://localhost:8080/",
          "height": 292
        },
        "outputId": "8f238e5d-2f45-41cb-88e6-98da2d4735af"
      },
      "source": [
        "import gensim.downloader as api\n",
        "\n",
        "info = api.info()  # show info about available models/datasets\n",
        "model = api.load(\"glove-twitter-25\")  # download the model and return as object ready for use\n",
        "model.most_similar(\"cat\")"
      ],
      "execution_count": 1,
      "outputs": [
        {
          "output_type": "stream",
          "text": [
            "[==================================================] 100.0% 104.8/104.8MB downloaded\n"
          ],
          "name": "stdout"
        },
        {
          "output_type": "stream",
          "text": [
            "/usr/local/lib/python3.6/dist-packages/smart_open/smart_open_lib.py:402: UserWarning: This function is deprecated, use smart_open.open instead. See the migration notes for details: https://github.com/RaRe-Technologies/smart_open/blob/master/README.rst#migrating-to-the-new-open-function\n",
            "  'See the migration notes for details: %s' % _MIGRATION_NOTES_URL\n",
            "/usr/local/lib/python3.6/dist-packages/gensim/matutils.py:737: FutureWarning: Conversion of the second argument of issubdtype from `int` to `np.signedinteger` is deprecated. In future, it will be treated as `np.int64 == np.dtype(int).type`.\n",
            "  if np.issubdtype(vec.dtype, np.int):\n"
          ],
          "name": "stderr"
        },
        {
          "output_type": "execute_result",
          "data": {
            "text/plain": [
              "[('dog', 0.9590819478034973),\n",
              " ('monkey', 0.9203578233718872),\n",
              " ('bear', 0.9143137335777283),\n",
              " ('pet', 0.9108031392097473),\n",
              " ('girl', 0.8880630135536194),\n",
              " ('horse', 0.8872727155685425),\n",
              " ('kitty', 0.8870542049407959),\n",
              " ('puppy', 0.886769711971283),\n",
              " ('hot', 0.8865255117416382),\n",
              " ('lady', 0.8845518827438354)]"
            ]
          },
          "metadata": {
            "tags": []
          },
          "execution_count": 1
        }
      ]
    },
    {
      "cell_type": "code",
      "metadata": {
        "id": "izAYx7znIerr",
        "colab_type": "code",
        "colab": {
          "base_uri": "https://localhost:8080/",
          "height": 241
        },
        "outputId": "2dc7fe98-f83b-48ff-d8b1-e49539cc4d88"
      },
      "source": [
        "model.most_similar(\"obama\")"
      ],
      "execution_count": 2,
      "outputs": [
        {
          "output_type": "stream",
          "text": [
            "/usr/local/lib/python3.6/dist-packages/gensim/matutils.py:737: FutureWarning: Conversion of the second argument of issubdtype from `int` to `np.signedinteger` is deprecated. In future, it will be treated as `np.int64 == np.dtype(int).type`.\n",
            "  if np.issubdtype(vec.dtype, np.int):\n"
          ],
          "name": "stderr"
        },
        {
          "output_type": "execute_result",
          "data": {
            "text/plain": [
              "[('romney', 0.9566565155982971),\n",
              " ('president', 0.9400959014892578),\n",
              " ('barack', 0.9376798272132874),\n",
              " ('clinton', 0.928589940071106),\n",
              " ('says', 0.9087843298912048),\n",
              " ('bill', 0.9080008864402771),\n",
              " ('claims', 0.9074634909629822),\n",
              " ('hillary', 0.888924777507782),\n",
              " ('talks', 0.8864544034004211),\n",
              " ('government', 0.8833803534507751)]"
            ]
          },
          "metadata": {
            "tags": []
          },
          "execution_count": 2
        }
      ]
    },
    {
      "cell_type": "code",
      "metadata": {
        "id": "w0kl3-F7MaCM",
        "colab_type": "code",
        "colab": {
          "base_uri": "https://localhost:8080/",
          "height": 241
        },
        "outputId": "8ba90883-8575-4ea3-fb32-5289c7297d8a"
      },
      "source": [
        "model.most_similar(\"ביבי\")"
      ],
      "execution_count": 6,
      "outputs": [
        {
          "output_type": "stream",
          "text": [
            "/usr/local/lib/python3.6/dist-packages/gensim/matutils.py:737: FutureWarning: Conversion of the second argument of issubdtype from `int` to `np.signedinteger` is deprecated. In future, it will be treated as `np.int64 == np.dtype(int).type`.\n",
            "  if np.issubdtype(vec.dtype, np.int):\n"
          ],
          "name": "stderr"
        },
        {
          "output_type": "execute_result",
          "data": {
            "text/plain": [
              "[('אריק', 0.8767455816268921),\n",
              " ('שרון', 0.8608006834983826),\n",
              " ('בנט', 0.8587234616279602),\n",
              " ('לפי', 0.8448910713195801),\n",
              " ('בעצם', 0.8417170643806458),\n",
              " ('האם', 0.8410609364509583),\n",
              " ('בנק', 0.8329651951789856),\n",
              " ('разбирам', 0.8238315582275391),\n",
              " ('гайды', 0.8230577707290649),\n",
              " ('לגבי', 0.8222944736480713)]"
            ]
          },
          "metadata": {
            "tags": []
          },
          "execution_count": 6
        }
      ]
    },
    {
      "cell_type": "code",
      "metadata": {
        "id": "4y6vx8hWJSUr",
        "colab_type": "code",
        "colab": {
          "base_uri": "https://localhost:8080/",
          "height": 309
        },
        "outputId": "7bddc288-a804-40d5-93e6-69344aa95f5b"
      },
      "source": [
        "from gensim.models.word2vec import Word2Vec\n",
        "import gensim.downloader as api\n",
        "\n",
        "corpus = api.load('text8')  # download the corpus and return it opened as an iterable\n",
        "model1 = Word2Vec(corpus)  # train a model from the corpus\n",
        "model1.most_similar(\"obama\")"
      ],
      "execution_count": 14,
      "outputs": [
        {
          "output_type": "stream",
          "text": [
            "/usr/local/lib/python3.6/dist-packages/smart_open/smart_open_lib.py:402: UserWarning: This function is deprecated, use smart_open.open instead. See the migration notes for details: https://github.com/RaRe-Technologies/smart_open/blob/master/README.rst#migrating-to-the-new-open-function\n",
            "  'See the migration notes for details: %s' % _MIGRATION_NOTES_URL\n",
            "/usr/local/lib/python3.6/dist-packages/ipykernel_launcher.py:6: DeprecationWarning: Call to deprecated `most_similar` (Method will be removed in 4.0.0, use self.wv.most_similar() instead).\n",
            "  \n",
            "/usr/local/lib/python3.6/dist-packages/gensim/matutils.py:737: FutureWarning: Conversion of the second argument of issubdtype from `int` to `np.signedinteger` is deprecated. In future, it will be treated as `np.int64 == np.dtype(int).type`.\n",
            "  if np.issubdtype(vec.dtype, np.int):\n"
          ],
          "name": "stderr"
        },
        {
          "output_type": "execute_result",
          "data": {
            "text/plain": [
              "[('barack', 0.871019721031189),\n",
              " ('elsa', 0.7840060591697693),\n",
              " ('stjepan', 0.7830649614334106),\n",
              " ('guilbert', 0.7820441722869873),\n",
              " ('manion', 0.7774409055709839),\n",
              " ('fabrizio', 0.7743645906448364),\n",
              " ('sansom', 0.7726341485977173),\n",
              " ('lucio', 0.7725703716278076),\n",
              " ('susannah', 0.7719000577926636),\n",
              " ('viscountess', 0.7710844278335571)]"
            ]
          },
          "metadata": {
            "tags": []
          },
          "execution_count": 14
        }
      ]
    }
  ]
}